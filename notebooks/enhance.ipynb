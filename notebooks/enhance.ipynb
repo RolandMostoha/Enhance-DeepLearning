{
 "cells": [
  {
   "cell_type": "markdown",
   "metadata": {
    "collapsed": true,
    "pycharm": {
     "name": "#%% md\n"
    }
   },
   "source": [
    "##### Copyright 2020 Roland Mostoha\n",
    "\n",
    "# Enhance - DeepLearning\n",
    "\n",
    "Enhance is Tensorflow based regression project. Its primary goal is to make predictions based on your personal fitness goals using your health records."
   ]
  },
  {
   "cell_type": "code",
   "execution_count": null,
   "outputs": [],
   "source": [
    "from datetime import date\n",
    "from datetime import timedelta\n",
    "\n",
    "import fitbit as fitbit\n",
    "import pandas as pd\n",
    "import tensorflow as tf\n",
    "from fitbit import Fitbit\n",
    "\n",
    "from auth.fitbit_authenticator import FitbitAuthenticator\n",
    "from data.data_loader import DataLoader\n",
    "from data.dataset_generator import DatasetGenerator\n",
    "from data.model.records import KEYS_ALL_HEALTH_RECORDS\n",
    "from data.provider.fitbit_data_provider import FitbitDataProvider\n",
    "from plotter import plotter\n",
    "from trainer.dnn_trainer import DNNTrainer"
   ],
   "metadata": {
    "collapsed": false,
    "pycharm": {
     "name": "#%%\n"
    }
   }
  },
  {
   "cell_type": "markdown",
   "source": [
    "## 1. Fitbit Authentication\n",
    "\n",
    "You can skip this step if you don't want to use Fitbit provider."
   ],
   "metadata": {
    "collapsed": false
   }
  },
  {
   "cell_type": "code",
   "execution_count": null,
   "outputs": [],
   "source": [
    "auth = FitbitAuthenticator(\"../configs/fitbit_auth_config.json\")\n",
    "auth.authenticate_in_browser()\n",
    "\n",
    "fitbit = fitbit.Fitbit(auth.client_id, auth.client_secret,\n",
    "                       access_token=auth.access_token,\n",
    "                       refresh_token=auth.refresh_token,\n",
    "                       system=Fitbit.METRIC)"
   ],
   "metadata": {
    "collapsed": false,
    "pycharm": {
     "name": "#%%\n"
    }
   }
  },
  {
   "cell_type": "markdown",
   "source": [
    "## 2. Load and generate health records\n",
    "\n",
    "Set start date and end date from which period you want to collect the data."
   ],
   "metadata": {
    "collapsed": false
   }
  },
  {
   "cell_type": "code",
   "execution_count": null,
   "outputs": [],
   "source": [
    "start_date = date(year=2020, month=1, day=1)\n",
    "end_date = date.today() - timedelta(days=1)"
   ],
   "metadata": {
    "collapsed": false,
    "pycharm": {
     "name": "#%%\n"
    }
   }
  },
  {
   "cell_type": "markdown",
   "source": [
    "Defining the data provider, loading and generating records. You can also use `RandomDataProvider` or a custom one."
   ],
   "metadata": {
    "collapsed": false
   }
  },
  {
   "cell_type": "code",
   "execution_count": null,
   "outputs": [],
   "source": [
    "data_provider = FitbitDataProvider(fitbit, start_date, end_date)\n",
    "\n",
    "loader = DataLoader(data_provider)\n",
    "loader.generate_records()"
   ],
   "metadata": {
    "collapsed": false,
    "pycharm": {
     "name": "#%%\n"
    }
   }
  },
  {
   "cell_type": "markdown",
   "source": [
    "Plot the records for manual evaluation."
   ],
   "metadata": {
    "collapsed": false
   }
  },
  {
   "cell_type": "code",
   "execution_count": null,
   "outputs": [],
   "source": [
    "plotter.plot_all_records(loader.records)"
   ],
   "metadata": {
    "collapsed": false,
    "pycharm": {
     "name": "#%%\n"
    }
   }
  },
  {
   "cell_type": "markdown",
   "source": [
    "Writing health records to csv."
   ],
   "metadata": {
    "collapsed": false
   }
  },
  {
   "cell_type": "code",
   "execution_count": null,
   "outputs": [],
   "source": [
    "loader.write_to_csv(\"../data/raw/health_records.csv\")"
   ],
   "metadata": {
    "collapsed": false,
    "pycharm": {
     "name": "#%%\n"
    }
   }
  },
  {
   "cell_type": "markdown",
   "source": [
    "## 3. Generate dataset\n",
    "\n",
    "Generating the dataset for the model by the collected health records"
   ],
   "metadata": {
    "collapsed": false
   }
  },
  {
   "cell_type": "code",
   "execution_count": null,
   "outputs": [],
   "source": [
    "pd.set_option('display.max_columns', 15)\n",
    "\n",
    "data_frame = pd.read_csv(\"../data/raw/health_records.csv\")\n",
    "data_frame = data_frame.fillna(data_frame.mean())\n",
    "data_frame = data_frame.drop(columns=['record_date'])\n",
    "\n",
    "# Check dataset stats\n",
    "print(data_frame.describe().transpose())"
   ],
   "metadata": {
    "collapsed": false,
    "pycharm": {
     "name": "#%%\n"
    }
   }
  },
  {
   "cell_type": "markdown",
   "source": [
    "Check the most recent health record and define your goal"
   ],
   "metadata": {
    "collapsed": false
   }
  },
  {
   "cell_type": "code",
   "execution_count": null,
   "outputs": [],
   "source": [
    "last_record = data_frame.tail(1)\n",
    "print('Most recent health record:\\n', last_record)\n",
    "\n",
    "# Set the modified values for my personal goal\n",
    "my_goal_changes = {'weight': 65}\n",
    "\n",
    "# Merging the most recent record with the modified values\n",
    "my_goal = last_record.copy()\n",
    "for key, value in my_goal_changes.items():\n",
    "    my_goal[key] = value\n",
    "print('My goal merged with most recent health record:\\n', my_goal)\n",
    "\n",
    "record_keys = KEYS_ALL_HEALTH_RECORDS\n",
    "\n",
    "# Skip the modified keys, there is no need to predict overwritten records\n",
    "for key in my_goal_changes.keys():\n",
    "    record_keys.remove(key)"
   ],
   "metadata": {
    "collapsed": false,
    "pycharm": {
     "name": "#%%\n"
    }
   }
  },
  {
   "cell_type": "markdown",
   "source": [
    "## 4. Train and run the models\n",
    "\n",
    "You can customize the trainers or write a new one besides the built-in ones: `LinearRegressionTrainer`, `DNNTrainer`"
   ],
   "metadata": {
    "collapsed": false
   }
  },
  {
   "cell_type": "code",
   "execution_count": null,
   "outputs": [],
   "source": [
    "tf.keras.backend.clear_session()\n",
    "tf.random.set_seed(60)\n",
    "\n",
    "prediction_results = 'Results for my goal {}'.format(my_goal_changes)\n",
    "\n",
    "for key in record_keys:\n",
    "    dataset = DatasetGenerator(data_frame, target_feature=key)\n",
    "    dataset.split(train_ratio=0.75, valid_ratio=0.15, test_ratio=0.10)\n",
    "\n",
    "    trainer = DNNTrainer(dataset, key)\n",
    "\n",
    "    model = trainer.train()\n",
    "\n",
    "    # Drop the target feature that we are train for\n",
    "    my_goal_input = my_goal.drop(columns=[key])\n",
    "\n",
    "    prediction = model.predict(my_goal_input)\n",
    "\n",
    "    feature_prediction = 'Predicted {} value for my goal: {}'.format(key, prediction)\n",
    "    prediction_results += '\\n' + feature_prediction\n",
    "\n",
    "print(prediction_results)"
   ],
   "metadata": {
    "collapsed": false,
    "pycharm": {
     "name": "#%%\n"
    }
   }
  }
 ],
 "metadata": {
  "kernelspec": {
   "display_name": "Python 3",
   "language": "python",
   "name": "python3"
  },
  "language_info": {
   "codemirror_mode": {
    "name": "ipython",
    "version": 2
   },
   "file_extension": ".py",
   "mimetype": "text/x-python",
   "name": "python",
   "nbconvert_exporter": "python",
   "pygments_lexer": "ipython2",
   "version": "2.7.6"
  }
 },
 "nbformat": 4,
 "nbformat_minor": 0
}