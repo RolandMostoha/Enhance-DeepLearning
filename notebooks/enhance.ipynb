{
 "cells": [
  {
   "cell_type": "markdown",
   "metadata": {
    "collapsed": true,
    "pycharm": {
     "name": "#%% md\n"
    }
   },
   "source": [
    "##### Copyright 2020 Roland Mostoha\n",
    "\n",
    "# Enhance - DeepLearning"
   ]
  },
  {
   "cell_type": "code",
   "execution_count": null,
   "outputs": [],
   "source": [
    "from datetime import date, timedelta\n",
    "\n",
    "import fitbit as fitbit\n",
    "\n",
    "from data.data_provider import FitbitDataProvider\n",
    "from src.auth.fitbit_authenticator import FitbitAuthenticator\n",
    "from src.data.data_loader import DataLoader\n",
    "\n",
    "auth = FitbitAuthenticator(\"../configs/fitbit_auth_config.json\")\n",
    "auth.authenticate_in_browser()\n",
    "\n",
    "fitbit = fitbit.Fitbit(auth.client_id, auth.client_secret,\n",
    "                       access_token=auth.access_token,\n",
    "                       refresh_token=auth.refresh_token)\n",
    "\n",
    "start_date = date(year=2020, month=1, day=1)\n",
    "end_date = date.today() - timedelta(days=1)\n",
    "\n",
    "data_provider = FitbitDataProvider(fitbit, start_date, end_date)\n",
    "\n",
    "loader = DataLoader(data_provider)\n",
    "loader.generate_records()\n",
    "\n",
    "loader.write_to_csv(\"../data/raw/health_records.csv\")\n"
   ],
   "metadata": {
    "collapsed": false,
    "pycharm": {
     "name": "#%%\n"
    }
   }
  }
 ],
 "metadata": {
  "kernelspec": {
   "display_name": "Python 3",
   "language": "python",
   "name": "python3"
  },
  "language_info": {
   "codemirror_mode": {
    "name": "ipython",
    "version": 2
   },
   "file_extension": ".py",
   "mimetype": "text/x-python",
   "name": "python",
   "nbconvert_exporter": "python",
   "pygments_lexer": "ipython2",
   "version": "2.7.6"
  }
 },
 "nbformat": 4,
 "nbformat_minor": 0
}