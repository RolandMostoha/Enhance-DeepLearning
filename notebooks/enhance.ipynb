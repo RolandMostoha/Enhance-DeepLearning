{
 "cells": [
  {
   "cell_type": "markdown",
   "metadata": {
    "collapsed": true,
    "pycharm": {
     "name": "#%% md\n"
    }
   },
   "source": [
    "##### Copyright 2020 Roland Mostoha\n",
    "\n",
    "# Enhance - DeepLearning"
   ]
  },
  {
   "cell_type": "code",
   "execution_count": null,
   "outputs": [],
   "source": [
    "from data.model.records import KEYS_ALL_HEALTH_RECORDS\n",
    "from trainer.trainer import Trainer\n",
    "from auth.fitbit_authenticator import FitbitAuthenticator\n",
    "from datetime import timedelta\n",
    "from fitbit import Fitbit\n",
    "from data.data_loader import DataLoader\n",
    "from data.provider.fitbit_data_provider import FitbitDataProvider\n",
    "import fitbit as fitbit\n",
    "from datetime import date\n",
    "import pandas as pd\n",
    "\n",
    "from plotter import plotter\n",
    "\n",
    "auth = FitbitAuthenticator(\"../configs/fitbit_auth_config.json\")\n",
    "auth.authenticate_in_browser()\n",
    "\n",
    "fitbit = fitbit.Fitbit(auth.client_id, auth.client_secret,\n",
    "                       access_token=auth.access_token,\n",
    "                       refresh_token=auth.refresh_token,\n",
    "                       system=Fitbit.METRIC)\n",
    "\n",
    "start_date = date(year=2020, month=1, day=1)\n",
    "end_date = date.today() - timedelta(days=1)\n",
    "\n",
    "data_provider = FitbitDataProvider(fitbit, start_date, end_date)\n",
    "\n",
    "loader = DataLoader(data_provider)\n",
    "loader.generate_records()\n",
    "\n",
    "plotter.plot_records(loader.records)\n",
    "\n",
    "loader.write_to_csv(\"../data/raw/health_records.csv\")\n",
    "\n",
    "data_frame = pd.read_csv(\"../data/raw/health_records.csv\")\n",
    "data_frame = data_frame.fillna(data_frame.mean())\n",
    "data_frame = data_frame.drop(columns=['record_date'])\n",
    "\n",
    "pd.set_option('display.max_columns', 15)\n",
    "\n",
    "last_record = data_frame.tail(1)\n",
    "print('Most recent health record:\\n', last_record)\n",
    "\n",
    "# Set the modified values for my personal goal\n",
    "my_goal_changes = {'weight': 65}\n",
    "\n",
    "# Merging the most recent record with the modified values\n",
    "my_goal = last_record.copy()\n",
    "for key, value in my_goal_changes.items():\n",
    "    my_goal[key] = value\n",
    "print('My goal:\\n', my_goal)\n",
    "\n",
    "record_keys = KEYS_ALL_HEALTH_RECORDS\n",
    "\n",
    "# Skip the modified records, there is no need to predict overwritten records\n",
    "for key in my_goal_changes.keys():\n",
    "    record_keys.remove(key)\n",
    "\n",
    "prediction_message = ''\n",
    "\n",
    "for key in record_keys:\n",
    "    trainer = Trainer(data_frame, key)\n",
    "\n",
    "    model = trainer.train()\n",
    "\n",
    "    # Drop the target feature that we are train for\n",
    "    my_goal_input = my_goal.drop(columns=[key])\n",
    "\n",
    "    prediction = model.predict(my_goal_input)\n",
    "\n",
    "    feature_prediction = 'Predicted {} value for the desired goal: {}'.format(key, prediction)\n",
    "    prediction_message += '\\n' + feature_prediction\n",
    "\n",
    "print(prediction_message)"
   ],
   "metadata": {
    "collapsed": false,
    "pycharm": {
     "name": "#%%\n"
    }
   }
  }
 ],
 "metadata": {
  "kernelspec": {
   "display_name": "Python 3",
   "language": "python",
   "name": "python3"
  },
  "language_info": {
   "codemirror_mode": {
    "name": "ipython",
    "version": 2
   },
   "file_extension": ".py",
   "mimetype": "text/x-python",
   "name": "python",
   "nbconvert_exporter": "python",
   "pygments_lexer": "ipython2",
   "version": "2.7.6"
  }
 },
 "nbformat": 4,
 "nbformat_minor": 0
}