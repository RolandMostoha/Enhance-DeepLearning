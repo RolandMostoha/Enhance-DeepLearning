{
 "cells": [
  {
   "cell_type": "markdown",
   "metadata": {
    "collapsed": true,
    "pycharm": {
     "name": "#%% md\n"
    }
   },
   "source": [
    "##### Copyright 2020 Roland Mostoha\n",
    "\n",
    "# Enhance - DeepLearning"
   ]
  },
  {
   "cell_type": "code",
   "execution_count": null,
   "outputs": [],
   "source": [
    "from data.model.records import KEYS_HEALTH_RECORDS\n",
    "from trainer.trainer import Trainer\n",
    "from auth.fitbit_authenticator import FitbitAuthenticator\n",
    "from datetime import timedelta\n",
    "from fitbit import Fitbit\n",
    "from data.data_loader import DataLoader\n",
    "from data.provider.fitbit_data_provider import FitbitDataProvider\n",
    "import fitbit as fitbit\n",
    "from datetime import date\n",
    "import pandas as pd\n",
    "\n",
    "from plotter import plotter\n",
    "\n",
    "auth = FitbitAuthenticator(\"../configs/fitbit_auth_config.json\")\n",
    "auth.authenticate_in_browser()\n",
    "\n",
    "fitbit = fitbit.Fitbit(auth.client_id, auth.client_secret,\n",
    "                       access_token=auth.access_token,\n",
    "                       refresh_token=auth.refresh_token,\n",
    "                       system=Fitbit.METRIC)\n",
    "\n",
    "start_date = date(year=2020, month=1, day=1)\n",
    "end_date = date.today() - timedelta(days=1)\n",
    "\n",
    "data_provider = FitbitDataProvider(fitbit, start_date, end_date)\n",
    "\n",
    "loader = DataLoader(data_provider)\n",
    "loader.generate_records()\n",
    "\n",
    "plotter.plot_records(loader.records)\n",
    "\n",
    "loader.write_to_csv(\"../data/raw/health_records.csv\")\n",
    "\n",
    "data_frame = pd.read_csv(\"../data/raw/health_records.csv\")\n",
    "data_frame = data_frame.fillna(data_frame.mean())\n",
    "data_frame = data_frame.drop(columns=['record_date'])\n",
    "\n",
    "pd.set_option('display.max_columns', 15)\n",
    "\n",
    "last_record = data_frame.tail(1)\n",
    "print('Last health record:\\n', last_record)\n",
    "\n",
    "# Update the desired values for my personal goal\n",
    "my_goal = last_record.copy()\n",
    "my_goal['weight'] = 65\n",
    "print('My personal goal:\\n', my_goal)\n",
    "\n",
    "my_goal_prediction = ''\n",
    "\n",
    "keys = KEYS_HEALTH_RECORDS\n",
    "\n",
    "for key in keys:\n",
    "    trainer = Trainer(data_frame, key)\n",
    "\n",
    "    model = trainer.train()\n",
    "\n",
    "    # Drop the target feature that we are train for\n",
    "    my_goal_input = my_goal.drop(columns=[key])\n",
    "\n",
    "    prediction = model.predict(my_goal_input)\n",
    "\n",
    "    feature_prediction = 'Predicted {} value for the desired goal: {}'.format(key, prediction)\n",
    "    my_goal_prediction += '\\n' + feature_prediction\n",
    "\n",
    "print(my_goal_prediction)"
   ],
   "metadata": {
    "collapsed": false,
    "pycharm": {
     "name": "#%%\n"
    }
   }
  }
 ],
 "metadata": {
  "kernelspec": {
   "display_name": "Python 3",
   "language": "python",
   "name": "python3"
  },
  "language_info": {
   "codemirror_mode": {
    "name": "ipython",
    "version": 2
   },
   "file_extension": ".py",
   "mimetype": "text/x-python",
   "name": "python",
   "nbconvert_exporter": "python",
   "pygments_lexer": "ipython2",
   "version": "2.7.6"
  }
 },
 "nbformat": 4,
 "nbformat_minor": 0
}